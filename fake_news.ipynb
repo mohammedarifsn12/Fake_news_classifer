{
 "cells": [
  {
   "cell_type": "code",
   "execution_count": null,
   "metadata": {},
   "outputs": [],
   "source": [
    "import pandas as pd \n",
    "import numpy as np \n",
    "from tensorflow.keras.models import Sequential\n",
    "from tensorflow.keras.layers import LSTM,Dense,Embedding"
   ]
  },
  {
   "cell_type": "code",
   "execution_count": null,
   "metadata": {},
   "outputs": [],
   "source": [
    "df=pd.read_csv('train.csv')"
   ]
  },
  {
   "cell_type": "code",
   "execution_count": null,
   "metadata": {},
   "outputs": [],
   "source": [
    "df.head()"
   ]
  },
  {
   "cell_type": "code",
   "execution_count": null,
   "metadata": {},
   "outputs": [],
   "source": [
    "df.shape"
   ]
  },
  {
   "cell_type": "code",
   "execution_count": null,
   "metadata": {},
   "outputs": [],
   "source": [
    "df=df.dropna()"
   ]
  },
  {
   "cell_type": "code",
   "execution_count": null,
   "metadata": {},
   "outputs": [],
   "source": [
    "x=df.iloc[:,:-1]\n",
    "y=df.iloc[:,-1:]"
   ]
  },
  {
   "cell_type": "code",
   "execution_count": null,
   "metadata": {},
   "outputs": [],
   "source": [
    "x.head(2)"
   ]
  },
  {
   "cell_type": "markdown",
   "metadata": {},
   "source": [
    "## Text Pre proceesing"
   ]
  },
  {
   "cell_type": "code",
   "execution_count": null,
   "metadata": {},
   "outputs": [],
   "source": [
    "message=df.copy()"
   ]
  },
  {
   "cell_type": "code",
   "execution_count": null,
   "metadata": {},
   "outputs": [],
   "source": [
    "message.reset_index(inplace=True)"
   ]
  },
  {
   "cell_type": "code",
   "execution_count": null,
   "metadata": {},
   "outputs": [],
   "source": [
    "message.head()"
   ]
  },
  {
   "cell_type": "code",
   "execution_count": null,
   "metadata": {},
   "outputs": [],
   "source": [
    "import nltk\n",
    "nltk.download('stopwords')"
   ]
  },
  {
   "cell_type": "code",
   "execution_count": null,
   "metadata": {},
   "outputs": [],
   "source": [
    "from nltk.corpus import stopwords\n",
    "import re\n",
    "from nltk.stem import PorterStemmer\n",
    "ps=PorterStemmer()\n",
    "data=[]\n",
    "for i in range(len(message)):\n",
    "    review=re.sub('[^a-zA-Z]',' ',message['title'][i])\n",
    "    review=review.lower()\n",
    "    review=review.split()\n",
    "    review=[ps.stem(word) for word in review if not word in stopwords.words('english')]\n",
    "    review=' '.join(review)\n",
    "    data.append(review)\n"
   ]
  },
  {
   "cell_type": "code",
   "execution_count": null,
   "metadata": {},
   "outputs": [],
   "source": [
    "data[0]"
   ]
  },
  {
   "cell_type": "code",
   "execution_count": null,
   "metadata": {},
   "outputs": [],
   "source": [
    "from tensorflow.keras.preprocessing.text import one_hot\n",
    "voc_size=5000\n",
    "one_hot=[one_hot(words,voc_size) for words in data]"
   ]
  },
  {
   "cell_type": "code",
   "execution_count": null,
   "metadata": {},
   "outputs": [],
   "source": [
    "from tensorflow.keras.preprocessing.sequence import pad_sequences\n",
    "padded_data=pad_sequences(one_hot,padding='pre',maxlen=20)"
   ]
  },
  {
   "cell_type": "code",
   "execution_count": null,
   "metadata": {},
   "outputs": [],
   "source": [
    "padded_data"
   ]
  },
  {
   "cell_type": "code",
   "execution_count": null,
   "metadata": {},
   "outputs": [],
   "source": [
    "model=Sequential([\n",
    "    Embedding(voc_size,40,input_length=20),\n",
    "    LSTM(100),\n",
    "    Dense(1,activation='sigmoid')\n",
    "\n",
    "]\n",
    ")"
   ]
  },
  {
   "cell_type": "code",
   "execution_count": null,
   "metadata": {},
   "outputs": [],
   "source": [
    "model.summary()"
   ]
  },
  {
   "cell_type": "code",
   "execution_count": null,
   "metadata": {},
   "outputs": [],
   "source": [
    "model.compile(loss='binary_crossentropy',optimizer='adam',metrics=['accuracy'])"
   ]
  },
  {
   "cell_type": "code",
   "execution_count": null,
   "metadata": {},
   "outputs": [],
   "source": [
    "x=np.array(padded_data)\n",
    "y=np.array(y)"
   ]
  },
  {
   "cell_type": "code",
   "execution_count": null,
   "metadata": {},
   "outputs": [],
   "source": [
    "from sklearn.model_selection import train_test_split\n",
    "X_train, X_test, y_train, y_test = train_test_split(x, y, test_size=0.33, random_state=42)"
   ]
  },
  {
   "cell_type": "code",
   "execution_count": null,
   "metadata": {},
   "outputs": [],
   "source": [
    "model.fit(X_train,y_train,validation_data=(X_test,y_test),epochs=5)"
   ]
  },
  {
   "cell_type": "code",
   "execution_count": 56,
   "metadata": {},
   "outputs": [
    {
     "name": "stdout",
     "output_type": "stream",
     "text": [
      "189/189 [==============================] - 0s 2ms/step\n"
     ]
    }
   ],
   "source": [
    "y_pred=model.predict(X_test)\n",
    "y_pred_binary = (y_pred > 0.5).astype(int)"
   ]
  },
  {
   "cell_type": "code",
   "execution_count": 57,
   "metadata": {},
   "outputs": [
    {
     "name": "stdout",
     "output_type": "stream",
     "text": [
      "Accuracy score is :0.9148301574150787\n"
     ]
    }
   ],
   "source": [
    "from sklearn.metrics import accuracy_score,confusion_matrix\n",
    "acc=accuracy_score(y_test,y_pred_binary)\n",
    "print(\"Accuracy score is :{}\".format(acc))"
   ]
  },
  {
   "cell_type": "code",
   "execution_count": 58,
   "metadata": {},
   "outputs": [
    {
     "name": "stdout",
     "output_type": "stream",
     "text": [
      "189/189 [==============================] - 0s 2ms/step\n",
      "Prediction 1: Real\n",
      "Prediction 2: Fake\n",
      "Prediction 3: Fake\n",
      "Prediction 4: Real\n",
      "Prediction 5: Real\n",
      "Prediction 6: Real\n",
      "Prediction 7: Fake\n",
      "Prediction 8: Real\n",
      "Prediction 9: Real\n",
      "Prediction 10: Real\n"
     ]
    }
   ],
   "source": [
    "y_pred = model.predict(X_test)\n",
    "y_pred_labels = [\"Fake\" if pred < 0.5 else \"Real\" for pred in y_pred]\n",
    "\n",
    "# Display first 10 predictions\n",
    "for i, label in enumerate(y_pred_labels[:10]):  \n",
    "    print(f\"Prediction {i+1}: {label}\")\n"
   ]
  },
  {
   "cell_type": "code",
   "execution_count": 64,
   "metadata": {},
   "outputs": [
    {
     "name": "stdout",
     "output_type": "stream",
     "text": [
      "189/189 [==============================] - 0s 2ms/step\n",
      "Text: [   0    0    0    0    0    0    0    0    0    0    0    0    0 2152\n",
      " 3542 4185 4024 4179  872 2133]\n",
      "Prediction: Real\n",
      "\n",
      "Text: [   0    0    0    0    0    0    0    0    0    0    0 2257 3526 2749\n",
      " 2489 4775 2782 4185  430 2646]\n",
      "Prediction: Fake\n",
      "\n",
      "Text: [   0    0    0    0    0    0    0    0    0    0 2407  588 4159  241\n",
      " 4953  469 2788 4185  430 2646]\n",
      "Prediction: Fake\n",
      "\n",
      "Text: [   0    0    0    0    0    0    0    0    0    0    0    0    0 3972\n",
      " 3847 1110  726 3557 4177 1356]\n",
      "Prediction: Real\n",
      "\n",
      "Text: [   0    0    0    0    0    0    0    0    0    0    0    0    0    0\n",
      " 3302 4526 1794 4306  845 2133]\n",
      "Prediction: Real\n",
      "\n",
      "Text: [   0    0    0    0    0    0    0    0    0    0    0    0    0    0\n",
      "    0 2283 3402 4416 3984 4631]\n",
      "Prediction: Real\n",
      "\n",
      "Text: [   0    0    0    0    0    0    0    0    0    0    0    0    0    0\n",
      " 2741 2748 1254 1623  359 3026]\n",
      "Prediction: Fake\n",
      "\n",
      "Text: [   0    0    0    0    0    0    0    0    0    0    0    0    0    0\n",
      " 4666 3993 3643 4537 2581 4416]\n",
      "Prediction: Real\n",
      "\n",
      "Text: [   0    0    0    0    0    0    0    0    0    0    0    0    0 2658\n",
      " 3320 4952 4003 2648 2053 3247]\n",
      "Prediction: Real\n",
      "\n",
      "Text: [   0    0    0    0    0    0    0    0    0    0    0  255 3365  635\n",
      " 4680 2050 3660 2267 1981 4429]\n",
      "Prediction: Real\n",
      "\n"
     ]
    }
   ],
   "source": [
    "y_pred = model.predict(X_test)\n",
    "\n",
    "# Convert predictions to labels\n",
    "y_pred_labels = [\"Fake\" if pred < 0.5 else \"Real\" for pred in y_pred]\n",
    "\n",
    "# Display text with predictions\n",
    "for i in range(10):  # Show first 10 predictions\n",
    "    print(f\"Text: {X_test[i]}\")  # Ensure this contains actual text\n",
    "    print(f\"Prediction: {y_pred_labels[i]}\\n\")\n"
   ]
  },
  {
   "cell_type": "code",
   "execution_count": null,
   "metadata": {},
   "outputs": [],
   "source": []
  }
 ],
 "metadata": {
  "kernelspec": {
   "display_name": "myenv",
   "language": "python",
   "name": "python3"
  },
  "language_info": {
   "codemirror_mode": {
    "name": "ipython",
    "version": 3
   },
   "file_extension": ".py",
   "mimetype": "text/x-python",
   "name": "python",
   "nbconvert_exporter": "python",
   "pygments_lexer": "ipython3",
   "version": "3.8.20"
  }
 },
 "nbformat": 4,
 "nbformat_minor": 2
}
